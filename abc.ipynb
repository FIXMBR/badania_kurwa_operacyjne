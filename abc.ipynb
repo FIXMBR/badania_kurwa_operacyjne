{
 "cells": [
  {
   "cell_type": "code",
   "execution_count": 3,
   "metadata": {},
   "outputs": [],
   "source": [
    "import numpy as np\n",
    "import random\n",
    "from numpy import inf\n"
   ]
  },
  {
   "cell_type": "code",
   "execution_count": 34,
   "metadata": {},
   "outputs": [],
   "source": [
    "cost_matrix = np.array([[inf, 1,   inf, inf, inf],\n",
    "                        [2,   inf, 3,   1,   inf],\n",
    "                        [inf, 2,   inf, 1,   inf],\n",
    "                        [inf, 1,   inf, inf, 2  ],\n",
    "                        [inf, inf, 2,   inf, inf]])\n",
    "\n",
    "starting_points = [0,4]\n",
    "\n",
    "number_of_points = len(cost_matrix)\n",
    "\n",
    "start_pos=[0,4]\n",
    "\n",
    "number_of_solutions = 100\n",
    "solutions = []\n",
    "solutions_scores = []\n",
    "\n",
    "def generate_random_solution(number_of_points):\n",
    "    result = list(range(number_of_points))\n",
    "    random.shuffle(result)\n",
    "    return np.array(result)\n",
    "    \n",
    "\n",
    "# print(generate_random_solution(number_of_points))\n",
    "\n",
    "def eval_solution(path):\n",
    "    time_multiplier = 1\n",
    "    missed_path_multiplier = 1000\n",
    "    out_of_bounds_multiplier = 10000\n",
    "\n",
    "    fitness = 0\n",
    "\n",
    "    # czas przejścia\n",
    "    for i in range(len(path)-1):\n",
    "        fitness += time_multiplier*cost_matrix[path[i],path[i+1]]\n",
    "\n",
    "    # kara za pominięcie szlaku\n",
    "    all_paths = np.ma.masked_invalid(cost_matrix).nonzero()  # TODO wyjebać to poza funkcje\n",
    "    all_paths = list(zip(*all_paths)) # transpose\n",
    "    all_paths = list({*map(tuple, map(sorted, all_paths))}) # remove duplicates\n",
    "\n",
    "    print(all_paths)\n",
    "\n",
    "    number_of_missed_paths = 0\n",
    "    for a,b in all_paths:\n",
    "        if (repr(path).count(f\"{a}, {b}\") == 0 and repr(path).count(f\"{b}, {a}\") == 0):\n",
    "            number_of_missed_paths+=1\n",
    "\n",
    "    fitness += missed_path_multiplier*number_of_missed_paths\n",
    "\n",
    "    # kara za wyjście poza szlak\n",
    "    number_of_oob_paths = 0\n",
    "    for i in range(len(path)-1):\n",
    "        if (cost_matrix[path[i], path[i+1]]==inf):\n",
    "            number_of_oob_paths += 1\n",
    "\n",
    "    fitness += out_of_bounds_multiplier*number_of_oob_paths\n",
    "\n",
    "    return fitness\n",
    "\n",
    "# print(eval_solution([0,1,2,3,4]))\n",
    "\n",
    "\n",
    "def generate_neighbours(path, number_of_points):\n",
    "    rand = random.randint(1, 3) \n",
    "    position = random.randint(0, len(path))\n",
    "    position2 = random.randint(0, len(path))\n",
    "    new_value = random.randint(0, number_of_points-1)\n",
    "    if rand == 1:\n",
    "        path.append(new_value)\n",
    "\n",
    "    elif rand ==2:\n",
    "        path[position], path[position2] = path[position2], path[position]\n",
    "\n",
    "    else:\n",
    "        path[position]=new_value\n",
    "\n",
    "for i in range(number_of_solutions):\n",
    "    solutions.append(generate_random_solution(number_of_points))\n",
    "    "
   ]
  },
  {
   "cell_type": "code",
   "execution_count": null,
   "metadata": {},
   "outputs": [],
   "source": []
  }
 ],
 "metadata": {
  "kernelspec": {
   "display_name": "Python 3",
   "language": "python",
   "name": "python3"
  },
  "language_info": {
   "codemirror_mode": {
    "name": "ipython",
    "version": 3
   },
   "file_extension": ".py",
   "mimetype": "text/x-python",
   "name": "python",
   "nbconvert_exporter": "python",
   "pygments_lexer": "ipython3",
   "version": "3.10.9"
  },
  "orig_nbformat": 4,
  "vscode": {
   "interpreter": {
    "hash": "916dbcbb3f70747c44a77c7bcd40155683ae19c65e1c03b4aa3499c5328201f1"
   }
  }
 },
 "nbformat": 4,
 "nbformat_minor": 2
}
