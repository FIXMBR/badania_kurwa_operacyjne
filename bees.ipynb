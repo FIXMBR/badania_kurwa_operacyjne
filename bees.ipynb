{
 "cells": [
  {
   "cell_type": "code",
   "execution_count": 6,
   "metadata": {},
   "outputs": [
    {
     "name": "stdout",
     "output_type": "stream",
     "text": [
      "[[inf inf inf ... inf inf inf]\n",
      " [inf inf inf ... inf inf inf]\n",
      " [inf inf inf ... inf inf inf]\n",
      " ...\n",
      " [inf inf inf ... inf inf  3.]\n",
      " [inf inf inf ... inf inf inf]\n",
      " [inf inf inf ...  5. inf inf]]\n"
     ]
    }
   ],
   "source": [
    "import numpy as np\n",
    "inf = np.inf\n",
    "\n",
    "matrix = []\n",
    "\n",
    "with open(\"matrix.txt\", \"r\") as file:\n",
    "    matrix = eval('np.array(' + file.read() + ')')\n",
    "\n",
    "print(matrix)\n"
   ]
  },
  {
   "cell_type": "code",
   "execution_count": null,
   "metadata": {},
   "outputs": [],
   "source": []
  }
 ],
 "metadata": {
  "kernelspec": {
   "display_name": "Python 3",
   "language": "python",
   "name": "python3"
  },
  "language_info": {
   "codemirror_mode": {
    "name": "ipython",
    "version": 3
   },
   "file_extension": ".py",
   "mimetype": "text/x-python",
   "name": "python",
   "nbconvert_exporter": "python",
   "pygments_lexer": "ipython3",
   "version": "3.10.9 (main, Dec 19 2022, 17:35:49) [GCC 12.2.0]"
  },
  "orig_nbformat": 4,
  "vscode": {
   "interpreter": {
    "hash": "916dbcbb3f70747c44a77c7bcd40155683ae19c65e1c03b4aa3499c5328201f1"
   }
  }
 },
 "nbformat": 4,
 "nbformat_minor": 2
}
