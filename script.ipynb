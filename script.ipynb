{
 "cells": [
  {
   "cell_type": "code",
   "execution_count": 1,
   "metadata": {},
   "outputs": [],
   "source": [
    "import os\n",
    "import json\n",
    "\n",
    "# directory where JSON files are located\n",
    "directory = os.getcwd()\n",
    "\n",
    "# get all files in the current working directory\n",
    "files = os.listdir(directory)\n",
    "\n",
    "# filter out only JSON files\n",
    "json_files = [file for file in files if file.endswith(\".json\")]\n",
    "\n",
    "# initialize a dictionary to store the data from all the JSON files\n",
    "data = {}\n",
    "\n",
    "# helper function to merge two dictionaries with nested lists\n",
    "\n",
    "\n",
    "def merge_dicts(dict1, dict2):\n",
    "    for key, value in dict2.items():\n",
    "        if key in dict1 and isinstance(value, (list, dict)):\n",
    "            # if the key exists in both dictionaries and the value is a list or dictionary, recursively merge the nested data\n",
    "            if isinstance(value, list):\n",
    "                # if the value is a list, merge the lists\n",
    "                dict1[key] = dict1[key] + value\n",
    "            else:\n",
    "                # if the value is a dictionary, recursively merge the dictionaries\n",
    "                dict1[key] = merge_dicts(dict1[key], value)\n",
    "        else:\n",
    "            # otherwise, just add the key-value pair from dict2 to dict1\n",
    "            dict1[key] = value\n",
    "    return dict1\n",
    "\n",
    "\n",
    "# load and parse each JSON file, and merge the data into the dictionary\n",
    "for file in json_files:\n",
    "    with open(os.path.join(directory, file)) as json_file:\n",
    "        file_data = json.load(json_file)\n",
    "        data = merge_dicts(data, file_data)\n",
    "\n",
    "if not os.path.exists(\"output\"):\n",
    "    os.makedirs(\"output\")\n",
    "\n",
    "# save the merged data to a new JSON file\n",
    "with open(\"output/merged_data.json\", \"w\") as outfile:\n",
    "    json.dump(data, outfile)\n",
    "\n",
    "data = json.load(open(os.path.join(directory, \"output/merged_data.json\")))\n",
    "    \n",
    "\n"
   ]
  },
  {
   "cell_type": "code",
   "execution_count": 2,
   "metadata": {},
   "outputs": [],
   "source": [
    "def score_path(path,trails,tree):\n",
    "    score = 0\n",
    "    for trail in path:\n",
    "        score +=trails[trail][\"distance\"]\n",
    "    return score\n",
    "    "
   ]
  },
  {
   "cell_type": "code",
   "execution_count": 3,
   "metadata": {},
   "outputs": [],
   "source": [
    "def decode(encoded):\n",
    "    path = []\n",
    "    n = [0, 0]\n",
    "    j = 0\n",
    "    for i in range(len(encoded)):\n",
    "        k = ord(encoded[i]) - 0x30\n",
    "        n[j] = (n[j] << 5) | (k & 0x1f)\n",
    "        if k & 0x20:\n",
    "            n[j] = (~(n[j] >> 1) if n[j] & 0x01 else n[j] >> 1) * 1e-7\n",
    "            if j == 1:\n",
    "                latLon = path[-1] if len(path) > 0 else (0, 0)\n",
    "                path.append((latLon[0] + n[0], latLon[1] + n[1]))\n",
    "            j = (j + 1) % 2\n",
    "            n[j] = 0\n",
    "    return (path[0], path[-1])"
   ]
  },
  {
   "cell_type": "code",
   "execution_count": 4,
   "metadata": {},
   "outputs": [],
   "source": [
    "for trail in data[\"trails\"].values():\n",
    "    # print(trail)\n",
    "    startPos, endPos = decode(trail.pop(\"encoded\"))\n",
    "    trail[\"start_latlng\"] = (round(startPos[0], 6), round(startPos[1], 6))\n",
    "    trail[\"end_latlng\"] = (round(endPos[0], 6), round(endPos[1], 6))\n"
   ]
  },
  {
   "cell_type": "code",
   "execution_count": 14,
   "metadata": {},
   "outputs": [
    {
     "ename": "TypeError",
     "evalue": "full() missing 1 required positional argument: 'fill_value'",
     "output_type": "error",
     "traceback": [
      "\u001b[0;31m---------------------------------------------------------------------------\u001b[0m",
      "\u001b[0;31mTypeError\u001b[0m                                 Traceback (most recent call last)",
      "\u001b[0;32m/tmp/ipykernel_5848/3039352053.py\u001b[0m in \u001b[0;36m<module>\u001b[0;34m\u001b[0m\n\u001b[1;32m      4\u001b[0m     \u001b[0mnode\u001b[0m\u001b[0;34m[\u001b[0m\u001b[0;34m\"id\"\u001b[0m\u001b[0;34m]\u001b[0m\u001b[0;34m=\u001b[0m\u001b[0mi\u001b[0m\u001b[0;34m\u001b[0m\u001b[0;34m\u001b[0m\u001b[0m\n\u001b[1;32m      5\u001b[0m \u001b[0;34m\u001b[0m\u001b[0m\n\u001b[0;32m----> 6\u001b[0;31m \u001b[0mmatrix\u001b[0m \u001b[0;34m=\u001b[0m \u001b[0mnp\u001b[0m\u001b[0;34m.\u001b[0m\u001b[0mfull\u001b[0m\u001b[0;34m(\u001b[0m\u001b[0;34m(\u001b[0m\u001b[0mlen\u001b[0m\u001b[0;34m(\u001b[0m\u001b[0mdata\u001b[0m\u001b[0;34m[\u001b[0m\u001b[0;34m\"nodes\"\u001b[0m\u001b[0;34m]\u001b[0m\u001b[0;34m)\u001b[0m\u001b[0;34m,\u001b[0m \u001b[0mlen\u001b[0m\u001b[0;34m(\u001b[0m\u001b[0mdata\u001b[0m\u001b[0;34m[\u001b[0m\u001b[0;34m\"nodes\"\u001b[0m\u001b[0;34m]\u001b[0m\u001b[0;34m)\u001b[0m\u001b[0;34m)\u001b[0m\u001b[0;34m)\u001b[0m\u001b[0;34m\u001b[0m\u001b[0;34m\u001b[0m\u001b[0m\n\u001b[0m\u001b[1;32m      7\u001b[0m \u001b[0;32mfor\u001b[0m \u001b[0mnode\u001b[0m \u001b[0;32min\u001b[0m \u001b[0mdata\u001b[0m\u001b[0;34m[\u001b[0m\u001b[0;34m\"nodes\"\u001b[0m\u001b[0;34m]\u001b[0m\u001b[0;34m.\u001b[0m\u001b[0mvalues\u001b[0m\u001b[0;34m(\u001b[0m\u001b[0;34m)\u001b[0m\u001b[0;34m:\u001b[0m\u001b[0;34m\u001b[0m\u001b[0;34m\u001b[0m\u001b[0m\n\u001b[1;32m      8\u001b[0m     \u001b[0;32mfor\u001b[0m \u001b[0mtrail\u001b[0m \u001b[0;32min\u001b[0m \u001b[0mdata\u001b[0m\u001b[0;34m[\u001b[0m\u001b[0;34m\"trails\"\u001b[0m\u001b[0;34m]\u001b[0m\u001b[0;34m.\u001b[0m\u001b[0mvalues\u001b[0m\u001b[0;34m(\u001b[0m\u001b[0;34m)\u001b[0m\u001b[0;34m:\u001b[0m\u001b[0;34m\u001b[0m\u001b[0;34m\u001b[0m\u001b[0m\n",
      "\u001b[0;31mTypeError\u001b[0m: full() missing 1 required positional argument: 'fill_value'"
     ]
    }
   ],
   "source": [
    "import numpy as np\n",
    "\n",
    "for i,node in enumerate(data[\"nodes\"].values()):\n",
    "    node[\"id\"]=i\n",
    "\n",
    "matrix = np.full((len(data[\"nodes\"]), len(data[\"nodes\"])),np.inf)\n",
    "for node in data[\"nodes\"].values():\n",
    "    for trail in data[\"trails\"].values():\n",
    "        if trail[\"start_latlng\"] == (node[\"latitude\"], node[\"longitude\"]):\n",
    "            for node2 in data[\"nodes\"].values():\n",
    "                if trail[\"end_latlng\"] == (node2[\"latitude\"], node2[\"longitude\"]):\n",
    "                    matrix[node[\"id\"], node2[\"id\"]] = trail[\"start_end_time\"]\n",
    "                    matrix[node2[\"id\"], node[\"id\"]] = trail[\"end_start_time\"]\n",
    "        if trail[\"end_latlng\"] == (node[\"latitude\"], node[\"longitude\"]):\n",
    "            for node2 in data[\"nodes\"].values():\n",
    "                if trail[\"start_latlng\"] == (node2[\"latitude\"], node2[\"longitude\"]):\n",
    "                    matrix[node[\"id\"], node2[\"id\"]] = trail[\"start_end_time\"]\n",
    "                    matrix[node2[\"id\"], node[\"id\"]] = trail[\"end_start_time\"]\n",
    "\n",
    "# print(matrix)\n",
    "np.set_printoptions(threshold=np.inf, linewidth=np.inf)\n",
    "with open(\"matrix.txt\", 'w') as f:\n",
    "    f.write(np.array2string(matrix, separator=', '))\n",
    "# matrix.tofile(\"matrix.txt\", sep=', ', format='%s')\n",
    "\n",
    "        "
   ]
  },
  {
   "cell_type": "code",
   "execution_count": 13,
   "metadata": {},
   "outputs": [
    {
     "name": "stdout",
     "output_type": "stream",
     "text": [
      "1864\n",
      "971\n"
     ]
    }
   ],
   "source": [
    "print(np.count_nonzero(matrix))\n",
    "print(len(data[\"trails\"].values()))\n"
   ]
  },
  {
   "cell_type": "code",
   "execution_count": null,
   "metadata": {},
   "outputs": [],
   "source": [
    "nodes = data[\"nodes\"].values()\n"
   ]
  }
 ],
 "metadata": {
  "kernelspec": {
   "display_name": "Python 3.10.8 64-bit",
   "language": "python",
   "name": "python3"
  },
  "language_info": {
   "codemirror_mode": {
    "name": "ipython",
    "version": 3
   },
   "file_extension": ".py",
   "mimetype": "text/x-python",
   "name": "python",
   "nbconvert_exporter": "python",
   "pygments_lexer": "ipython3",
   "version": "3.10.8"
  },
  "orig_nbformat": 4,
  "vscode": {
   "interpreter": {
    "hash": "916dbcbb3f70747c44a77c7bcd40155683ae19c65e1c03b4aa3499c5328201f1"
   }
  }
 },
 "nbformat": 4,
 "nbformat_minor": 2
}
