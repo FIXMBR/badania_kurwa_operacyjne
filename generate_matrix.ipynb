{
 "cells": [
  {
   "cell_type": "code",
   "execution_count": 1,
   "metadata": {},
   "outputs": [],
   "source": [
    "import os\n",
    "import json\n",
    "\n",
    "# directory where JSON files are located\n",
    "directory = os.getcwd()\n",
    "\n",
    "# get all files in the current working directory\n",
    "files = os.listdir(directory)\n",
    "\n",
    "# filter out only JSON files\n",
    "json_files = [file for file in files if file.endswith(\".json\")]\n",
    "\n",
    "# initialize a dictionary to store the data from all the JSON files\n",
    "data = {}\n",
    "\n",
    "# helper function to merge two dictionaries with nested lists\n",
    "\n",
    "\n",
    "def merge_dicts(dict1, dict2):\n",
    "    for key, value in dict2.items():\n",
    "        if key in dict1 and isinstance(value, (list, dict)):\n",
    "            # if the key exists in both dictionaries and the value is a list or dictionary, recursively merge the nested data\n",
    "            if isinstance(value, list):\n",
    "                # if the value is a list, merge the lists\n",
    "                dict1[key] = dict1[key] + value\n",
    "            else:\n",
    "                # if the value is a dictionary, recursively merge the dictionaries\n",
    "                dict1[key] = merge_dicts(dict1[key], value)\n",
    "        else:\n",
    "            # otherwise, just add the key-value pair from dict2 to dict1\n",
    "            dict1[key] = value\n",
    "    return dict1\n",
    "\n",
    "\n",
    "# load and parse each JSON file, and merge the data into the dictionary\n",
    "for file in json_files:\n",
    "    with open(os.path.join(directory, file)) as json_file:\n",
    "        file_data = json.load(json_file)\n",
    "        data = merge_dicts(data, file_data)\n",
    "\n",
    "if not os.path.exists(\"output\"):\n",
    "    os.makedirs(\"output\")\n",
    "\n",
    "# save the merged data to a new JSON file\n",
    "with open(\"output/merged_data.json\", \"w\") as outfile:\n",
    "    json.dump(data, outfile)\n",
    "\n",
    "data = json.load(open(os.path.join(directory, \"output/merged_data.json\")))\n",
    "    \n",
    "\n"
   ]
  },
  {
   "cell_type": "code",
   "execution_count": 2,
   "metadata": {},
   "outputs": [],
   "source": [
    "def score_path(path,trails,tree):\n",
    "    score = 0\n",
    "    for trail in path:\n",
    "        score +=trails[trail][\"distance\"]\n",
    "    return score\n",
    "    "
   ]
  },
  {
   "cell_type": "code",
   "execution_count": 3,
   "metadata": {},
   "outputs": [],
   "source": [
    "def decode(encoded):\n",
    "    path = []\n",
    "    n = [0, 0]\n",
    "    j = 0\n",
    "    for i in range(len(encoded)):\n",
    "        k = ord(encoded[i]) - 0x30\n",
    "        n[j] = (n[j] << 5) | (k & 0x1f)\n",
    "        if k & 0x20:\n",
    "            n[j] = (~(n[j] >> 1) if n[j] & 0x01 else n[j] >> 1) * 1e-7\n",
    "            if j == 1:\n",
    "                latLon = path[-1] if len(path) > 0 else (0, 0)\n",
    "                path.append((latLon[0] + n[0], latLon[1] + n[1]))\n",
    "            j = (j + 1) % 2\n",
    "            n[j] = 0\n",
    "    return (path[0], path[-1])"
   ]
  },
  {
   "cell_type": "code",
   "execution_count": 4,
   "metadata": {},
   "outputs": [],
   "source": [
    "for trail in data[\"trails\"].values():\n",
    "    # print(trail)\n",
    "    startPos, endPos = decode(trail.pop(\"encoded\"))\n",
    "    trail[\"start_latlng\"] = (round(startPos[0], 6), round(startPos[1], 6))\n",
    "    trail[\"end_latlng\"] = (round(endPos[0], 6), round(endPos[1], 6))\n"
   ]
  },
  {
   "cell_type": "code",
   "execution_count": 5,
   "metadata": {},
   "outputs": [
    {
     "name": "stdout",
     "output_type": "stream",
     "text": [
      "764\n",
      "336\n",
      "[4, 5, 11, 23, 47, 50, 72, 76, 81, 92, 102, 115, 124, 144, 150, 162, 173, 175, 177, 188, 200, 207, 245, 247, 286, 312, 317, 319, 329, 332, 333]\n"
     ]
    }
   ],
   "source": [
    "import numpy as np\n",
    "print(len(data[\"nodes\"]))\n",
    "data[\"nodes\"] = {key: value for (key, value) in data[\"nodes\"].items() if value[\"region\"] == \"Tatry\"}\n",
    "print(len(data[\"nodes\"]))\n",
    "\n",
    "start_points = [\"Siwa Polana\", \"Polana Biały Potok\", \"Kiry\", \"Staników Żleb\", \"Nędzówka, las\", \"Gronik\", \"Za Bramką\", \"Dolina Strążyska, parking\",\n",
    "                \"Dolina ku Dziurze\", \"Dolina Białego\", \"Kuźnicka Polana\", \"Kuźnice\", \"Jaszczurówka\", \"Lysá Poľana, parking\", \"Palenica Białczańska\", \"Tatranská Javorina\", \"Monkova dolina\", \"Tatranská Kotlina\", \"Nad Matliarmi\", \"Hrebienok\", \"Velický most\", \"Nad Zrubami\", \"Trigan\", \"Pod Furkotskou doliou\", \"Pod Grúnikom\", \"Podbanské, rozc.\", \"Úzka dolina, parking\", \"Pod Holým vrchom\", \"Žiarska dolina, ústie\", \"Jalovecká dolina, ústie\", \"Biela skala, horáreň\", \"Brestová, skanzen\", \"Rázcestie pod Suchou dolinou\"]\n",
    "\n",
    "start_points_ids = []\n",
    "\n",
    "for i,node in enumerate(data[\"nodes\"].values()):\n",
    "    node[\"id\"]=i\n",
    "    if node[\"name\"] in start_points:\n",
    "        start_points_ids.append(i)\n",
    "\n",
    "print(start_points_ids)\n",
    "\n",
    "\n",
    "matrix = np.full((len(data[\"nodes\"]), len(data[\"nodes\"])),np.inf)\n",
    "for node in data[\"nodes\"].values():\n",
    "    for trail in data[\"trails\"].values():\n",
    "        if trail[\"start_latlng\"] == (node[\"latitude\"], node[\"longitude\"]):\n",
    "            for node2 in data[\"nodes\"].values():\n",
    "                if trail[\"end_latlng\"] == (node2[\"latitude\"], node2[\"longitude\"]):\n",
    "                    matrix[node[\"id\"], node2[\"id\"]] = trail[\"start_end_time\"]\n",
    "                    matrix[node2[\"id\"], node[\"id\"]] = trail[\"end_start_time\"]\n",
    "        if trail[\"end_latlng\"] == (node[\"latitude\"], node[\"longitude\"]):\n",
    "            for node2 in data[\"nodes\"].values():\n",
    "                if trail[\"start_latlng\"] == (node2[\"latitude\"], node2[\"longitude\"]):\n",
    "                    matrix[node[\"id\"], node2[\"id\"]] = trail[\"start_end_time\"]\n",
    "                    matrix[node2[\"id\"], node[\"id\"]] = trail[\"end_start_time\"]\n",
    "\n",
    "# print(matrix)\n",
    "np.set_printoptions(threshold=np.inf, linewidth=np.inf)\n",
    "with open(\"matrix.txt\", 'w') as f:\n",
    "    f.write(np.array2string(matrix, separator=', '))\n",
    "# matrix.tofile(\"matrix.txt\", sep=', ', format='%s')\n",
    "\n",
    "        "
   ]
  },
  {
   "cell_type": "code",
   "execution_count": 6,
   "metadata": {},
   "outputs": [],
   "source": [
    "start_points = [\"Siwa Polana\", \"Polana Biały Potok\", \"Kiry\", \"Staników Żleb\", \"Nędzówka, las\", \"Gronik\", \"Za Bramką\", \"Dolina Strążyska, parking\",\n",
    "                \"Dolina ku Dziurze\", \"Dolina Białego\", \"Kuźnicka Polana\", \"Kuźnice\", \"Jaszczurówka\", \"Lysá Poľana, parking\", \"Palenica Białczańska\", \"Tatranská Javorina\", \"Monkova dolina\", \"Tatranská Kotlina\", \"\"]\n",
    "\n",
    "for point in start_points:\n",
    "    point=point.encode(\"UTF-16\")"
   ]
  },
  {
   "cell_type": "code",
   "execution_count": 7,
   "metadata": {},
   "outputs": [
    {
     "name": "stdout",
     "output_type": "stream",
     "text": [
      "112896\n",
      "971\n"
     ]
    }
   ],
   "source": [
    "print(np.count_nonzero(matrix))\n",
    "print(len(data[\"trails\"].values()))\n"
   ]
  },
  {
   "cell_type": "code",
   "execution_count": 8,
   "metadata": {},
   "outputs": [],
   "source": [
    "nodes = data[\"nodes\"].values()\n"
   ]
  }
 ],
 "metadata": {
  "kernelspec": {
   "display_name": "Python 3.10.8 64-bit",
   "language": "python",
   "name": "python3"
  },
  "language_info": {
   "codemirror_mode": {
    "name": "ipython",
    "version": 3
   },
   "file_extension": ".py",
   "mimetype": "text/x-python",
   "name": "python",
   "nbconvert_exporter": "python",
   "pygments_lexer": "ipython3",
   "version": "3.10.9 (main, Dec 19 2022, 17:35:49) [GCC 12.2.0]"
  },
  "orig_nbformat": 4,
  "vscode": {
   "interpreter": {
    "hash": "916dbcbb3f70747c44a77c7bcd40155683ae19c65e1c03b4aa3499c5328201f1"
   }
  }
 },
 "nbformat": 4,
 "nbformat_minor": 2
}
